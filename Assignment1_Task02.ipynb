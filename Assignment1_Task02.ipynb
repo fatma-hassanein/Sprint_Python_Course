{
 "cells": [
  {
   "cell_type": "markdown",
   "metadata": {
    "collapsed": true
   },
   "source": [
    "## Exercise 1: Accept numbers from a user\n",
    "\n",
    "Write a program to accept two numbers from the user and calculate multiplication\n"
   ]
  },
  {
   "cell_type": "code",
   "execution_count": 1,
   "metadata": {},
   "outputs": [
    {
     "name": "stdout",
     "output_type": "stream",
     "text": [
      "Enter First Number: 2\n",
      "Enter Second Number: 4\n",
      "8\n"
     ]
    }
   ],
   "source": [
    "number1 = int(input(\"Enter First Number: \"))\n",
    "number2 = int(input(\"Enter Second Number: \"))\n",
    "\n",
    "print (number1*number2)"
   ]
  },
  {
   "cell_type": "markdown",
   "metadata": {
    "collapsed": true
   },
   "source": [
    "## Exercise 2: Display three string “Name”, “Is”, “James” as “Name**Is**James”\n",
    "\n",
    "Use the print() function to format the given words in the mentioned format. Display the ** separator between each string.\n"
   ]
  },
  {
   "cell_type": "code",
   "execution_count": 2,
   "metadata": {},
   "outputs": [
    {
     "name": "stdout",
     "output_type": "stream",
     "text": [
      "Name**Is**James\n"
     ]
    }
   ],
   "source": [
    "print('Name', 'Is', 'James', sep='**') "
   ]
  },
  {
   "cell_type": "markdown",
   "metadata": {},
   "source": [
    "## Exercise 3: Convert Decimal number to octal using print() output formatting"
   ]
  },
  {
   "cell_type": "code",
   "execution_count": 3,
   "metadata": {},
   "outputs": [
    {
     "name": "stdout",
     "output_type": "stream",
     "text": [
      "0o10\n"
     ]
    }
   ],
   "source": [
    "num = 8\n",
    "print(oct(num))"
   ]
  },
  {
   "cell_type": "markdown",
   "metadata": {},
   "source": [
    "## Exercise 4: Display float number with 2 decimal places using print()"
   ]
  },
  {
   "cell_type": "code",
   "execution_count": 4,
   "metadata": {},
   "outputs": [
    {
     "name": "stdout",
     "output_type": "stream",
     "text": [
      "458.54\n"
     ]
    }
   ],
   "source": [
    "num = 458.541315\n",
    "print (\"{0:.2f}\".format(num)) "
   ]
  },
  {
   "cell_type": "markdown",
   "metadata": {},
   "source": [
    "## Exercise 5: Accept a list of 5 float numbers as an input from the user"
   ]
  },
  {
   "cell_type": "code",
   "execution_count": 5,
   "metadata": {},
   "outputs": [
    {
     "name": "stdout",
     "output_type": "stream",
     "text": [
      "Enter number  1  in the list\n",
      "2.3\n",
      "Enter number  2  in the list\n",
      "235.73\n",
      "Enter number  3  in the list\n",
      "45.2\n",
      "Enter number  4  in the list\n",
      "323\n",
      "Enter number  5  in the list\n",
      "23.7\n",
      "[2.3, 235.73, 45.2, 323.0, 23.7]\n"
     ]
    }
   ],
   "source": [
    "number_list = []\n",
    "n = 5 #int(input(\"Enter the list size \"))\n",
    "\n",
    "for i in range(n):\n",
    "    print(\"Enter number \", i+1, \" in the list\")\n",
    "    item = float(input())\n",
    "    number_list.append(item)\n",
    "print(number_list)"
   ]
  },
  {
   "cell_type": "markdown",
   "metadata": {
    "collapsed": true
   },
   "source": [
    "## Exercise 6: Write all content of a given file into a new file by skipping line number 5"
   ]
  },
  {
   "cell_type": "code",
   "execution_count": 6,
   "metadata": {},
   "outputs": [
    {
     "name": "stdout",
     "output_type": "stream",
     "text": [
      "line1\n",
      "line2\n",
      "line3\n",
      "line4\n",
      "line6\n",
      "line7\n",
      "\n"
     ]
    }
   ],
   "source": [
    "index = 1\n",
    "lineNo = 5\n",
    "\n",
    "with open(r\"Given Test.txt\", \"r\") as readf, open(\"new_file.txt\", 'w') as writef:\n",
    "    for line in readf:\n",
    "            if index != lineNo:\n",
    "                writef.write(line)\n",
    "            index += 1\n",
    "    readf.close()\n",
    "    writef.close()\n",
    "    fp = open(r\"new_file.txt\", \"r\")\n",
    "    print(fp.read())\n",
    "    fp.close()"
   ]
  },
  {
   "cell_type": "markdown",
   "metadata": {
    "collapsed": true
   },
   "source": [
    "## Exercise 7: Accept any three string from one input() call\n",
    "\n",
    "Write a program to take three names as input from a user in the single input() function call."
   ]
  },
  {
   "cell_type": "code",
   "execution_count": 7,
   "metadata": {},
   "outputs": [
    {
     "name": "stdout",
     "output_type": "stream",
     "text": [
      "Enter three names: Emma Jessy Kelly\n",
      "Name 1 : Emma\n",
      "Name 2 : Jessy\n",
      "Name 3 : Kelly\n"
     ]
    }
   ],
   "source": [
    "mlist = input(\"Enter three names: \").split()\n",
    "for i in range(len(mlist)):\n",
    "    print(\"Name\", i+1, \":\",mlist[i])"
   ]
  },
  {
   "cell_type": "markdown",
   "metadata": {},
   "source": [
    "## Exercise 8: Format variables using a string.format() method.\n",
    "\n",
    "Write a program to use string.format() method to format the following three variables as per the expected output\n"
   ]
  },
  {
   "cell_type": "code",
   "execution_count": 8,
   "metadata": {},
   "outputs": [
    {
     "name": "stdout",
     "output_type": "stream",
     "text": [
      "I have 1000 dollars so I can buy 3 football for 450.00 dollars.\n"
     ]
    }
   ],
   "source": [
    "totalMoney = 1000\n",
    "quantity = 3\n",
    "price = 450\n",
    "\n",
    "out_str = \"I have {totalMoney} dollars so I can buy {quantity} football for {price:.2f} dollars.\".format(totalMoney = totalMoney, quantity = quantity, price = price)\n",
    "print(out_str)"
   ]
  },
  {
   "cell_type": "markdown",
   "metadata": {},
   "source": [
    "## Exercise 9: Check file is empty or not\n",
    "\n",
    "Write a program to check if the given file is empty or not"
   ]
  },
  {
   "cell_type": "code",
   "execution_count": 10,
   "metadata": {},
   "outputs": [
    {
     "name": "stdout",
     "output_type": "stream",
     "text": [
      "True\n",
      "False\n"
     ]
    }
   ],
   "source": [
    "import os\n",
    "print(os.stat(\"empty_file.txt\").st_size == 0)\n",
    "print(os.stat(\"new_file.txt\").st_size == 0)"
   ]
  },
  {
   "cell_type": "markdown",
   "metadata": {},
   "source": [
    "## Exercise 10: Read line number 4 from the following file Given test.txt\n",
    "\n"
   ]
  },
  {
   "cell_type": "code",
   "execution_count": 11,
   "metadata": {},
   "outputs": [
    {
     "name": "stdout",
     "output_type": "stream",
     "text": [
      "line4\n",
      "\n"
     ]
    }
   ],
   "source": [
    "index = 1\n",
    "with open(r\"Given Test.txt\", \"r\") as readf:\n",
    "    for line in readf:\n",
    "            if index == 4:\n",
    "                print(line)\n",
    "                readf.close()\n",
    "                break\n",
    "            index += 1"
   ]
  }
 ],
 "metadata": {
  "kernelspec": {
   "display_name": "Python 3",
   "language": "python",
   "name": "python3"
  },
  "language_info": {
   "codemirror_mode": {
    "name": "ipython",
    "version": 3
   },
   "file_extension": ".py",
   "mimetype": "text/x-python",
   "name": "python",
   "nbconvert_exporter": "python",
   "pygments_lexer": "ipython3",
   "version": "3.6.2"
  }
 },
 "nbformat": 4,
 "nbformat_minor": 2
}
