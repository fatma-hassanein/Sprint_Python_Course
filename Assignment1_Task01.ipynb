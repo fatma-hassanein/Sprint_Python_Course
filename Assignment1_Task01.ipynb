{
 "cells": [
  {
   "cell_type": "markdown",
   "metadata": {},
   "source": [
    "# Python Basic Exercise for Beginners"
   ]
  },
  {
   "cell_type": "markdown",
   "metadata": {},
   "source": [
    "## Exercise 1: Calculate the multiplication and sum of two numbers\n",
    "\n",
    "Given two integer numbers return their product only if the product is equal to or lower than 1000, else return their sum.\n"
   ]
  },
  {
   "cell_type": "code",
   "execution_count": 1,
   "metadata": {},
   "outputs": [
    {
     "name": "stdout",
     "output_type": "stream",
     "text": [
      "Enter First Number: 20\n",
      "Enter Second Number: 30\n",
      "600\n"
     ]
    }
   ],
   "source": [
    "number1 = int(input(\"Enter First Number: \"))\n",
    "number2 = int(input(\"Enter Second Number: \"))\n",
    "\n",
    "result = number1+number2\n",
    "if(number1*number2 <= 1000):\n",
    "    result = number1*number2\n",
    "print (result)"
   ]
  },
  {
   "cell_type": "markdown",
   "metadata": {},
   "source": [
    "## Exercise 2: Print the sum of the current number and the previous number\n",
    "\n",
    "Write a program to iterate the first 10 numbers and in each iteration, print the sum of the current and previous number."
   ]
  },
  {
   "cell_type": "code",
   "execution_count": 2,
   "metadata": {},
   "outputs": [
    {
     "name": "stdout",
     "output_type": "stream",
     "text": [
      "Printing current and previous number sum in a range(10)\n",
      "\n",
      "Current Number  0  Previous Number  Sum:   0\n",
      "\n",
      "Current Number  1  Previous Number  0   Sum:   1\n",
      "\n",
      "Current Number  2  Previous Number  1   Sum:   3\n",
      "\n",
      "Current Number  3  Previous Number  2   Sum:   5\n",
      "\n",
      "Current Number  4  Previous Number  3   Sum:   7\n",
      "\n",
      "Current Number  5  Previous Number  4   Sum:   9\n",
      "\n",
      "Current Number  6  Previous Number  5   Sum:   11\n",
      "\n",
      "Current Number  7  Previous Number  6   Sum:   13\n",
      "\n",
      "Current Number  8  Previous Number  7   Sum:   15\n",
      "\n",
      "Current Number  9  Previous Number  8   Sum:   17\n"
     ]
    }
   ],
   "source": [
    "print(\"Printing current and previous number sum in a range(10)\")\n",
    "for n in range(10):\n",
    "    print()\n",
    "    if(n > 0):\n",
    "        print(\"Current Number \",n,\" Previous Number \",n-1,\"  Sum:  \",n+n-1)\n",
    "    else:\n",
    "        print(\"Current Number \",n,\" Previous Number  Sum:  \",n)"
   ]
  },
  {
   "cell_type": "markdown",
   "metadata": {},
   "source": [
    "## Exercise 3: Print characters from a string that are present at an even index number\n",
    "\n",
    "Write a program to accept a string from the user and display characters that are present at an even index number.\n",
    "For example, str = \"pynative\" so you should display ‘p’, ‘n’, ‘t’, ‘v’."
   ]
  },
  {
   "cell_type": "code",
   "execution_count": 3,
   "metadata": {},
   "outputs": [
    {
     "name": "stdout",
     "output_type": "stream",
     "text": [
      "Enter Text: pynative\n",
      "Original String is  pynative \n",
      "\n",
      "Printing only even index chars\n",
      "\n",
      "p\n",
      "\n",
      "\n",
      "n\n",
      "\n",
      "\n",
      "t\n",
      "\n",
      "\n",
      "v\n",
      "\n"
     ]
    }
   ],
   "source": [
    "input_string = input(\"Enter Text: \")\n",
    "\n",
    "print(\"Original String is \",input_string,'\\n')\n",
    "print(\"Printing only even index chars\")\n",
    "for n in range(len(input_string)):\n",
    "    print()\n",
    "    if n % 2 == 0:\n",
    "        print(input_string[n])"
   ]
  },
  {
   "cell_type": "markdown",
   "metadata": {
    "collapsed": true
   },
   "source": [
    "## Exercise 4: Remove first n characters from a string\n",
    "\n",
    "Write a program to remove characters from a string starting from zero up to n and return a new string.\n",
    "\n",
    "For example:\n",
    "*\tremove_chars(\"pynative\", 4) so output must be tive. Here we need to remove first four characters from a string.\n",
    "*\tremove_chars(\"pynative\", 2) so output must be native. Here we need to remove first two characters from a string.\n",
    "\n",
    "Note: n must be less than the length of the string.\n"
   ]
  },
  {
   "cell_type": "code",
   "execution_count": 4,
   "metadata": {},
   "outputs": [
    {
     "name": "stdout",
     "output_type": "stream",
     "text": [
      "tive\n",
      "native\n"
     ]
    }
   ],
   "source": [
    "def remove_chars(mStr, n):\n",
    "    return mStr[n:len(mStr)]\n",
    "\n",
    "print(remove_chars(\"pynative\", 4))\n",
    "print(remove_chars(\"pynative\", 2))"
   ]
  },
  {
   "cell_type": "markdown",
   "metadata": {},
   "source": [
    "## Exercise 5: Check if the first and last number of a list is the same\n",
    "\n",
    "Write a function to return True if the first and last number of a given list is same. If numbers are different then return False.\n"
   ]
  },
  {
   "cell_type": "code",
   "execution_count": 5,
   "metadata": {},
   "outputs": [
    {
     "name": "stdout",
     "output_type": "stream",
     "text": [
      "Given list:  [10, 20, 30, 40, 10] \n",
      "\n",
      "result is True \n",
      "\n",
      "Given list:  [75, 65, 35, 75, 30] \n",
      "\n",
      "result is False \n",
      "\n"
     ]
    }
   ],
   "source": [
    "def same_start_end(mlist):\n",
    "    print(\"Given list: \",mlist,\"\\n\")\n",
    "    if(mlist[0] == mlist[len(mlist)-1]):\n",
    "        return True\n",
    "    else:\n",
    "        return False\n",
    "\n",
    "numbers_x = [10, 20, 30, 40, 10]\n",
    "numbers_y = [75, 65, 35, 75, 30]\n",
    "\n",
    "print(\"result is\",same_start_end(numbers_x),\"\\n\")\n",
    "print(\"result is\",same_start_end(numbers_y),\"\\n\")"
   ]
  },
  {
   "cell_type": "markdown",
   "metadata": {},
   "source": [
    "## Exercise 6: Display numbers divisible by 5 from a list\n",
    "\n",
    "Iterate the given list of numbers and print only those numbers which are divisible by 5\n"
   ]
  },
  {
   "cell_type": "code",
   "execution_count": 6,
   "metadata": {},
   "outputs": [
    {
     "name": "stdout",
     "output_type": "stream",
     "text": [
      "Given list:  [10, 20, 33, 46, 55] \n",
      "\n",
      "Divisible by 5\n",
      "\n",
      "10\n",
      "\n",
      "20\n",
      "\n",
      "55\n",
      "\n"
     ]
    }
   ],
   "source": [
    "def print_div_five(mlist):\n",
    "    print(\"Given list: \",mlist,\"\\n\")\n",
    "    print(\"Divisible by 5\")\n",
    "    for n in range(len(mlist)):\n",
    "        if mlist[n] % 5 == 0:\n",
    "            print()\n",
    "            print(mlist[n])\n",
    "    return \"\"\n",
    "\n",
    "print(print_div_five([10, 20, 33, 46, 55]))"
   ]
  },
  {
   "cell_type": "markdown",
   "metadata": {},
   "source": [
    "## Exercise 7: Return the count of a given substring from a string\n",
    "\n",
    "Write a program to find how many times substring “Emma” appears in the given string."
   ]
  },
  {
   "cell_type": "code",
   "execution_count": 7,
   "metadata": {},
   "outputs": [
    {
     "name": "stdout",
     "output_type": "stream",
     "text": [
      "Emma appeared  2  times\n"
     ]
    }
   ],
   "source": [
    "def find_substring_occ(mStr,msubstr):\n",
    "    if(msubstr in mStr):\n",
    "        start_str = mStr.index(msubstr)+len(msubstr)\n",
    "        mStr = mStr[start_str:len(mStr)]\n",
    "        return 1 + find_substring_occ(mStr,msubstr)\n",
    "    else:\n",
    "        return 0\n",
    "\n",
    "str_x = \"Emma is good developer. Emma is a writer\"\n",
    "str_y = \"Emma\"\n",
    "print(\"Emma appeared \",find_substring_occ(str_x,str_y),\" times\")"
   ]
  },
  {
   "cell_type": "markdown",
   "metadata": {},
   "source": [
    "## Exercise 8: Print the following pattern\n",
    "    \n",
    "* 1\n",
    "* 2 2 \n",
    "* 3 3 3 \n",
    "* 4 4 4 4 \n",
    "* 5 5 5 5 5"
   ]
  },
  {
   "cell_type": "code",
   "execution_count": 8,
   "metadata": {},
   "outputs": [
    {
     "name": "stdout",
     "output_type": "stream",
     "text": [
      "1 \n",
      "2 2 \n",
      "3 3 3 \n",
      "4 4 4 4 \n",
      "5 5 5 5 5 \n"
     ]
    }
   ],
   "source": [
    "def print_pattern(m_range):\n",
    "    help_print(m_range,1)\n",
    "    \n",
    "def help_print(m_range, index):\n",
    "    if(index > m_range):\n",
    "        return\n",
    "    else:\n",
    "        for n in range(index):\n",
    "            print(index, end = ' ')\n",
    "        print()\n",
    "        return help_print(m_range, index+1)\n",
    "\n",
    "print_pattern(5)"
   ]
  },
  {
   "cell_type": "markdown",
   "metadata": {},
   "source": [
    "## Exercise 9: Check Palindrome Number\n",
    "\n",
    "Write a program to check if the given number is a palindrome number.\n",
    "A palindrome number is a number that is same after reverse. For example 545, is the palindrome numbers\n"
   ]
  },
  {
   "cell_type": "code",
   "execution_count": 9,
   "metadata": {},
   "outputs": [
    {
     "name": "stdout",
     "output_type": "stream",
     "text": [
      "True\n"
     ]
    }
   ],
   "source": [
    "def check_palindrome_no(mNum):\n",
    "    mlist = str(mNum)\n",
    "    n = 0\n",
    "    return help_check(mlist,n)\n",
    "\n",
    "def help_check(mlist,n):\n",
    "    if(n < len(mlist)-1):\n",
    "        if(mlist[n] == mlist[len(mlist)-1-n]):\n",
    "            return True and help_check(mlist,n+1)\n",
    "        else:\n",
    "            return False\n",
    "    else:\n",
    "        return True\n",
    "\n",
    "print(check_palindrome_no(545))"
   ]
  },
  {
   "cell_type": "markdown",
   "metadata": {},
   "source": [
    "## Exercise 10: Create a new list from a two list using the following condition\n",
    "\n",
    "Create a new list from a two list using the following condition\n",
    "Given a two list of numbers, write a program to create a new list such that the new list should contain odd numbers from the first list and even numbers from the second list.\n"
   ]
  },
  {
   "cell_type": "code",
   "execution_count": 10,
   "metadata": {},
   "outputs": [
    {
     "data": {
      "text/plain": [
       "[40, 25, 60, 35, 90]"
      ]
     },
     "execution_count": 10,
     "metadata": {},
     "output_type": "execute_result"
    }
   ],
   "source": [
    "def filter_two_lists(list1,list2):\n",
    "    result = []\n",
    "    for i in range(max(len(list1),len(list2))):\n",
    "        if(i < len(list1) and list1[i] % 2 == 1):\n",
    "            result.append(list1[i])\n",
    "        if(i < len(list2) and list2[i] % 2 == 0):\n",
    "            result.append(list2[i])\n",
    "    return result\n",
    "\n",
    "list1 = [10, 20, 25, 30, 35]\n",
    "list2 = [40, 45, 60, 75, 90]\n",
    "filter_two_lists(list1,list2)"
   ]
  },
  {
   "cell_type": "markdown",
   "metadata": {},
   "source": [
    "## Exercise 11: Write a Program to extract each digit from an integer in the reverse order.\n",
    "\n",
    "For example, If the given int is 7536, the output shall be “6 3 5 7“, with a space separating the digits.\n"
   ]
  },
  {
   "cell_type": "code",
   "execution_count": 11,
   "metadata": {},
   "outputs": [
    {
     "name": "stdout",
     "output_type": "stream",
     "text": [
      "6 3 5 7 "
     ]
    }
   ],
   "source": [
    "def get_numbers_reversed(n):\n",
    "    mlist = str(n)[::-1]\n",
    "    for i in range(len(mlist)):\n",
    "        print(mlist[i],end= ' ')\n",
    "        \n",
    "get_numbers_reversed(7536)"
   ]
  },
  {
   "cell_type": "markdown",
   "metadata": {},
   "source": [
    "## Exercise 12: Calculate income tax for the given income by adhering to the below rules\n",
    "\n",
    "| Taxable Income | Rate (in %) |\n",
    "| --- | --- |\n",
    "| First \\$10,000 | 0 |\n",
    "| Second \\$10,000 | 10 |\n",
    "| The remaining |   20   |\n",
    "\n"
   ]
  },
  {
   "cell_type": "code",
   "execution_count": 12,
   "metadata": {},
   "outputs": [
    {
     "data": {
      "text/plain": [
       "6000.0"
      ]
     },
     "execution_count": 12,
     "metadata": {},
     "output_type": "execute_result"
    }
   ],
   "source": [
    "def tax_income(income):\n",
    "    tax = 0\n",
    "    income = income - 10000\n",
    "    if(income > 10000):\n",
    "        return 10000*0.1  + (income - 10000)*0.2\n",
    "    else:\n",
    "        if(income == 10000):\n",
    "            return 10000*0.1\n",
    "        else:\n",
    "            return 0\n",
    "\n",
    "tax_income(45000)"
   ]
  },
  {
   "cell_type": "markdown",
   "metadata": {},
   "source": [
    "## Exercise 13: Print multiplication table form 1 to 10"
   ]
  },
  {
   "cell_type": "code",
   "execution_count": 13,
   "metadata": {},
   "outputs": [
    {
     "name": "stdout",
     "output_type": "stream",
     "text": [
      "1 2 3 4 5 6 7 8 9 10 \n",
      "\n",
      "2 4 6 8 10 12 14 16 18 20 \n",
      "\n",
      "3 6 9 12 15 18 21 24 27 30 \n",
      "\n",
      "4 8 12 16 20 24 28 32 36 40 \n",
      "\n",
      "5 10 15 20 25 30 35 40 45 50 \n",
      "\n",
      "6 12 18 24 30 36 42 48 54 60 \n",
      "\n",
      "7 14 21 28 35 42 49 56 63 70 \n",
      "\n",
      "8 16 24 32 40 48 56 64 72 80 \n",
      "\n",
      "9 18 27 36 45 54 63 72 81 90 \n",
      "\n",
      "10 20 30 40 50 60 70 80 90 100 \n",
      "\n"
     ]
    }
   ],
   "source": [
    "def print_timetable(m_range):\n",
    "    help_print_timetable(m_range,1)\n",
    "    \n",
    "def help_print_timetable(m_range, index):\n",
    "    if(index > m_range):\n",
    "        return\n",
    "    else:\n",
    "        for n in range(10):\n",
    "            print(index*(n+1), end = ' ')\n",
    "        print(\"\\n\")\n",
    "        return help_print_timetable(m_range, index+1)\n",
    "\n",
    "print_timetable(10)"
   ]
  },
  {
   "cell_type": "markdown",
   "metadata": {},
   "source": [
    "## Exercise 14: Print downward Half-Pyramid Pattern with Star"
   ]
  },
  {
   "cell_type": "code",
   "execution_count": 15,
   "metadata": {},
   "outputs": [
    {
     "name": "stdout",
     "output_type": "stream",
     "text": [
      "* * * * * \n",
      "* * * * \n",
      "* * * \n",
      "* * \n",
      "* \n"
     ]
    }
   ],
   "source": [
    "def half_pyramid(m_range):\n",
    "    help_print_pyramid(m_range,m_range)\n",
    "    \n",
    "def help_print_pyramid(m_range, index):\n",
    "    if(index == 0):\n",
    "        return\n",
    "    else:\n",
    "        for n in range(index):\n",
    "            print(\"*\", end = ' ')\n",
    "        print()\n",
    "        return help_print_pyramid(m_range, index-1)\n",
    "\n",
    "half_pyramid(5)"
   ]
  },
  {
   "cell_type": "markdown",
   "metadata": {},
   "source": [
    "## Exercise 15: Write a function called exponent(base, exp) that returns an int value of base raises to the power of exp.\n",
    "\n",
    "Note here exp is a non-negative integer, and the base is an integer.\n"
   ]
  },
  {
   "cell_type": "code",
   "execution_count": 16,
   "metadata": {},
   "outputs": [
    {
     "name": "stdout",
     "output_type": "stream",
     "text": [
      "32\n",
      "625\n"
     ]
    }
   ],
   "source": [
    "def exponent(n, e):\n",
    "    if e == 0:\n",
    "        return 1\n",
    "    elif e == 1:\n",
    "        return n\n",
    "    else:\n",
    "        return (n*exponent(n, e-1))\n",
    "\n",
    "print(exponent(2, 5))\n",
    "print(exponent(5, 4))"
   ]
  }
 ],
 "metadata": {
  "kernelspec": {
   "display_name": "Python 3",
   "language": "python",
   "name": "python3"
  },
  "language_info": {
   "codemirror_mode": {
    "name": "ipython",
    "version": 3
   },
   "file_extension": ".py",
   "mimetype": "text/x-python",
   "name": "python",
   "nbconvert_exporter": "python",
   "pygments_lexer": "ipython3",
   "version": "3.6.2"
  }
 },
 "nbformat": 4,
 "nbformat_minor": 2
}
